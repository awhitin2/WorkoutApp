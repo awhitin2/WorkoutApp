{
 "cells": [
  {
   "cell_type": "code",
   "execution_count": 3,
   "id": "7d192399",
   "metadata": {},
   "outputs": [],
   "source": [
    "from firebase_admin import credentials, initialize_app, db\n",
    "\n",
    "def connect_to_firebase():\n",
    "        cred = credentials.Certificate(\"backend/firebase_admin.json\")\n",
    "        initialize_app(cred, {\n",
    "            'databaseURL': 'https://workout-da0a4-default-rtdb.firebaseio.com/'\n",
    "        })   \n",
    "\n",
    "connect_to_firebase()"
   ]
  },
  {
   "cell_type": "code",
   "execution_count": 46,
   "id": "2eea321c",
   "metadata": {},
   "outputs": [],
   "source": [
    "from backend import mapping\n",
    "\n",
    "def get_last_completed_lifts(lift:str , limit: int) -> list[mapping.LiftSessionRecord]: #wrap \n",
    "    data: dict = db.reference(\"/completed_lifts/\"+lift)\\\n",
    "                    .order_by_key()\\\n",
    "                    .limit_to_last(limit+1).get()\n",
    "    if not data:\n",
    "        return False, None\n",
    "    \n",
    "    sessions = [mapping.LiftSessionRecord(key, value) for key, value in data.items()]\n",
    "    sessions.reverse()\n",
    "    start_id = sessions[-1].id\n",
    "    more = False\n",
    "    if len(sessions) == limit+1:\n",
    "        more = True\n",
    "        _ = sessions.pop()\n",
    "    \n",
    "    return more, sessions, start_id"
   ]
  },
  {
   "cell_type": "code",
   "execution_count": 16,
   "id": "e8706db9",
   "metadata": {},
   "outputs": [],
   "source": [
    "def get_more_completed_lifts(lift:str, start: str, limit: int) -> list[mapping.LiftSessionRecord]: #wrap \n",
    "    data: dict = db.reference(\"/completed_lifts/\"+lift)\\\n",
    "                    .order_by_key()\\\n",
    "                    .start_at(start)\\\n",
    "                    .limit_to_last(limit+1).get()\n",
    "    if not data:\n",
    "        return False, None\n",
    "    \n",
    "    sessions = [mapping.LiftSessionRecord(value) for key, value in data.items()]\n",
    "    sessions.reverse()\n",
    "    more = False\n",
    "    if len(sessions) == limit+1:\n",
    "        more = True\n",
    "        _ = sessions.pop()\n",
    "    \n",
    "    return more, sessions\n",
    "\n",
    "    ## Somehow need to track the oldest record grabbed. This should be the first returned from .get() so maybe grab it now and return it\n",
    "    \n",
    "\n",
    "\n"
   ]
  },
  {
   "cell_type": "code",
   "execution_count": 47,
   "id": "ae1cbaca",
   "metadata": {},
   "outputs": [],
   "source": [
    "data = get_last_completed_lifts(\"Shoulder Press\", 4)"
   ]
  },
  {
   "cell_type": "code",
   "execution_count": 48,
   "id": "c8688404",
   "metadata": {},
   "outputs": [
    {
     "data": {
      "text/plain": [
       "(True,\n",
       " [{'date': 'Feb 09', 'sets': [{'reps': '5', 'weight': '120'}, {'reps': '5', 'weight': '120'}, {'reps': '6', 'weight': '120'}]},\n",
       "  {'date': 'Jan 13', 'sets': [{'reps': '5', 'weight': '150'}, {'reps': '15', 'weight': ''}]},\n",
       "  {'date': 'Dec 18', 'sets': [{'reps': '5', 'weight': '110'}, {'reps': '5', 'weight': '110'}, {'reps': '6', 'weight': '110'}]},\n",
       "  {'date': 'Dec 18', 'sets': [{'reps': '5', 'weight': '110'}, {'reps': '5', 'weight': '110'}, {'reps': '6', 'weight': '110'}]}])"
      ]
     },
     "execution_count": 48,
     "metadata": {},
     "output_type": "execute_result"
    }
   ],
   "source": [
    "data"
   ]
  },
  {
   "cell_type": "code",
   "execution_count": 22,
   "id": "11e895c9",
   "metadata": {},
   "outputs": [
    {
     "data": {
      "text/plain": [
       "2"
      ]
     },
     "execution_count": 22,
     "metadata": {},
     "output_type": "execute_result"
    }
   ],
   "source": [
    "len(data)"
   ]
  },
  {
   "cell_type": "code",
   "execution_count": null,
   "id": "d52e1070",
   "metadata": {},
   "outputs": [],
   "source": []
  }
 ],
 "metadata": {
  "kernelspec": {
   "display_name": "Python 3",
   "language": "python",
   "name": "python3"
  },
  "language_info": {
   "codemirror_mode": {
    "name": "ipython",
    "version": 3
   },
   "file_extension": ".py",
   "mimetype": "text/x-python",
   "name": "python",
   "nbconvert_exporter": "python",
   "pygments_lexer": "ipython3",
   "version": "3.9.5"
  }
 },
 "nbformat": 4,
 "nbformat_minor": 5
}
