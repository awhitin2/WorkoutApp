{
 "cells": [
  {
   "cell_type": "code",
   "execution_count": 4,
   "id": "6de9409a",
   "metadata": {},
   "outputs": [],
   "source": [
    "from firebase_admin import credentials, initialize_app, db\n",
    "\n",
    "def connect_to_firebase():\n",
    "        cred = credentials.Certificate(\"backend/firebase_admin.json\")\n",
    "        initialize_app(cred, {\n",
    "            'databaseURL': 'https://workout-da0a4-default-rtdb.firebaseio.com/'\n",
    "        })   \n",
    "\n",
    "\n",
    "\n",
    "from backend import mapping\n",
    "\n",
    "def get_last_completed_lifts(lift:str , limit: int) -> list[mapping.LiftSessionRecord]: #wrap \n",
    "    data: dict = db.reference(\"/completed_lifts/\"+lift)\\\n",
    "                    .order_by_key()\\\n",
    "                    .limit_to_last(limit+1).get()\n",
    "    if not data:\n",
    "        return False, None\n",
    "    \n",
    "    sessions = [mapping.LiftSessionRecord(key, value) for key, value in data.items()]\n",
    "    sessions.reverse()\n",
    "    start_id = sessions[-1].id\n",
    "    more = False\n",
    "    if len(sessions) == limit+1:\n",
    "        more = True\n",
    "        _ = sessions.pop()\n",
    "    \n",
    "    return more, sessions, start_id\n",
    "\n",
    "\n"
   ]
  },
  {
   "cell_type": "code",
   "execution_count": 5,
   "id": "b69925ce",
   "metadata": {},
   "outputs": [],
   "source": [
    "more, data, start = get_last_completed_lifts(\"Shoulder Press\", 4)"
   ]
  },
  {
   "cell_type": "code",
   "execution_count": 27,
   "id": "ca865b3f",
   "metadata": {},
   "outputs": [],
   "source": [
    "def get_more_completed_lifts(lift:str, start: str, limit: int) -> list[mapping.LiftSessionRecord]: #wrap \n",
    "    data: dict = db.reference(\"/completed_lifts/\"+lift)\\\n",
    "                    .order_by_key()\\\n",
    "                    .end_at(start)\\\n",
    "                    .limit_to_last(limit+2).get()\n",
    "    if not data:\n",
    "        return False, None\n",
    "    del data[start]\n",
    "    sessions = [mapping.LiftSessionRecord(key, value) for key, value in data.items()]\n",
    "    sessions.reverse()\n",
    "    more = False\n",
    "    if len(sessions) == limit+1:\n",
    "        more = True\n",
    "        _ = sessions.pop()\n",
    "    \n",
    "    return more, sessions\n",
    "\n",
    "    ## Somehow need to track the oldest record grabbed. This should be the first returned from .get() so maybe grab it now and return it\n",
    "    \n",
    "\n",
    "\n"
   ]
  },
  {
   "cell_type": "code",
   "execution_count": 28,
   "id": "46220252",
   "metadata": {},
   "outputs": [],
   "source": [
    "more, sessionstwo = get_more_completed_lifts(\"Shoulder Press\", start, 3)"
   ]
  },
  {
   "cell_type": "code",
   "execution_count": 25,
   "id": "1c0e84c7",
   "metadata": {},
   "outputs": [],
   "source": [
    "start = '-MrEMumZcpRxMDGj5cl_'"
   ]
  },
  {
   "cell_type": "code",
   "execution_count": 29,
   "id": "236adac8",
   "metadata": {},
   "outputs": [
    {
     "data": {
      "text/plain": [
       "[{'id': '-MrEMuNeJntmwEsFqA7r', 'date': 'Dec 18', 'sets': [{'reps': '5', 'weight': '110'}, {'reps': '5', 'weight': '110'}, {'reps': '6', 'weight': '110'}]},\n",
       " {'id': '-MrEM4m14udzsY4gIp4m', 'date': 'Dec 18', 'sets': [{'reps': '5', 'weight': '100'}, {'reps': '5', 'weight': '100'}, {'reps': '5', 'weight': '100'}]},\n",
       " {'id': '-Mr8miz4x07h-tUSNf5B', 'date': 'Dec 17', 'sets': [{'reps': '5', 'weight': '100'}, {'reps': '5', 'weight': '100'}, {'reps': '6', 'weight': '110'}]}]"
      ]
     },
     "execution_count": 29,
     "metadata": {},
     "output_type": "execute_result"
    }
   ],
   "source": [
    "sessionstwo"
   ]
  },
  {
   "cell_type": "code",
   "execution_count": 16,
   "id": "b1ed6fd3",
   "metadata": {},
   "outputs": [
    {
     "data": {
      "text/plain": [
       "[{'id': '-MvVAIjBNzGBBpRccRjf', 'date': 'Feb 09', 'sets': [{'reps': '5', 'weight': '120'}, {'reps': '5', 'weight': '120'}, {'reps': '6', 'weight': '120'}]},\n",
       " {'id': '-MtJYJWJ5MEusV-VHIez', 'date': 'Jan 13', 'sets': [{'reps': '5', 'weight': '150'}, {'reps': '15', 'weight': ''}]},\n",
       " {'id': '-MrEMvBCuVclh_eeOM9Z', 'date': 'Dec 18', 'sets': [{'reps': '5', 'weight': '110'}, {'reps': '5', 'weight': '110'}, {'reps': '6', 'weight': '110'}]},\n",
       " {'id': '-MrEMumZcpRxMDGj5cl_', 'date': 'Dec 18', 'sets': [{'reps': '5', 'weight': '110'}, {'reps': '5', 'weight': '110'}, {'reps': '6', 'weight': '110'}]}]"
      ]
     },
     "execution_count": 16,
     "metadata": {},
     "output_type": "execute_result"
    }
   ],
   "source": [
    "data"
   ]
  },
  {
   "cell_type": "code",
   "execution_count": null,
   "id": "185447b1",
   "metadata": {},
   "outputs": [],
   "source": []
  }
 ],
 "metadata": {
  "kernelspec": {
   "display_name": "Python 3",
   "language": "python",
   "name": "python3"
  },
  "language_info": {
   "codemirror_mode": {
    "name": "ipython",
    "version": 3
   },
   "file_extension": ".py",
   "mimetype": "text/x-python",
   "name": "python",
   "nbconvert_exporter": "python",
   "pygments_lexer": "ipython3",
   "version": "3.9.5"
  }
 },
 "nbformat": 4,
 "nbformat_minor": 5
}
