{
 "cells": [
  {
   "cell_type": "code",
   "execution_count": 3,
   "id": "185447b1",
   "metadata": {},
   "outputs": [
    {
     "name": "stderr",
     "output_type": "stream",
     "text": [
      "[INFO   ] [Logger      ] Record log in /Users/andrewwhiting/.kivy/logs/kivy_22-05-07_20.txt\n",
      "[INFO   ] [Kivy        ] v2.0.0\n",
      "[INFO   ] [Kivy        ] Installed at \"/Library/Frameworks/Python.framework/Versions/3.9/lib/python3.9/site-packages/kivy/__init__.py\"\n",
      "[INFO   ] [Python      ] v3.9.5 (v3.9.5:0a7dcbdb13, May  3 2021, 13:17:02) \n",
      "[Clang 6.0 (clang-600.0.57)]\n",
      "[INFO   ] [Python      ] Interpreter at \"/Library/Frameworks/Python.framework/Versions/3.9/bin/python3.9\"\n",
      "[INFO   ] [Factory     ] 186 symbols loaded\n",
      "[INFO   ] [Image       ] Providers: img_tex, img_imageio, img_dds, img_sdl2, img_pil (img_ffpyplayer ignored)\n"
     ]
    }
   ],
   "source": [
    "from datetime import timedelta, date, datetime\n",
    "import random\n",
    "from firebase_admin import credentials, initialize_app, db\n",
    "import backend.database as data\n",
    "\n",
    "def connect_to_firebase():\n",
    "        cred = credentials.Certificate(\"firebase_admin.json\")\n",
    "        initialize_app(cred, {\n",
    "            'databaseURL': 'https://workout-da0a4-default-rtdb.firebaseio.com/'\n",
    "        })   \n",
    "\n",
    "def get_weights(start, increment):\n",
    "    weights = []\n",
    "    weights.append(start)\n",
    "    current = start\n",
    "    for i in range(30):\n",
    "        current = current - random.choice(increment)\n",
    "        weights.append(current)\n",
    "    weights.reverse()\n",
    "    print(weights)\n",
    "    return weights\n",
    "\n",
    "def get_dates():\n",
    "    dates = []\n",
    "    today = date.today()\n",
    "    dates.append(today)\n",
    "    current = today\n",
    "    for i in range(30):\n",
    "        current = current - timedelta(days= random.randint(2, 8))\n",
    "        dates.append(current)\n",
    "    dates = [parse(date) for date in dates]\n",
    "    dates.reverse()\n",
    "    print(dates)\n",
    "    return dates\n",
    "\n",
    "def parse(date):\n",
    "    return datetime.strftime(date, '%b %d')\n",
    "\n",
    "def register(lift, dates, weights):\n",
    "    for d, weight in zip(dates, weights):\n",
    "        register_graph_data(d, lift, weight)\n",
    "\n",
    "def register_graph_data(date, lift, weight):\n",
    "        db.reference('/graph_data/'+lift).push(\n",
    "            {\n",
    "            date : weight\n",
    "            })\n"
   ]
  },
  {
   "cell_type": "code",
   "execution_count": 125,
   "id": "375cdc6f",
   "metadata": {},
   "outputs": [],
   "source": [
    "templates = data.get_workout_templates()"
   ]
  },
  {
   "cell_type": "code",
   "execution_count": 126,
   "id": "77eb44d3",
   "metadata": {},
   "outputs": [
    {
     "data": {
      "text/plain": [
       "[{'id': '-MrPC_9n70HLxAJhIFJv', 'title': 'Abs', 'last_completed': 'Apr 29', 'lift_info_dict': {'Crunches': 3, 'Leg Raises': 3}, 'lift_info': '3 x Crunches, 3 x Leg Raises'},\n",
       " {'id': '-MrOHx7tHMWwcwf90Nbl', 'title': 'Upper', 'last_completed': 'May 03', 'lift_info_dict': {'Dips': 3, 'Shoulder Press': 3, 'Weighted Pull-ups': 3}, 'lift_info': '3 x Dips, 3 x Shoulder Press, 3 x Weighted Pull-ups'},\n",
       " {'id': '-N-QEwkE0djnE0IWDMNC', 'title': 'Lower', 'last_completed': 'May 06', 'lift_info_dict': {'Deadlift': 3, 'Squats': 3}, 'lift_info': '3 x Deadlift, 3 x Squats'},\n",
       " {'id': '-N0WYnfhHenDNGbr9oyN', 'title': 'Chest', 'last_completed': 'May 07', 'lift_info_dict': {'Bench Press': 3, 'Incline Bench': 5}, 'lift_info': '3 x Bench Press, 5 x Incline Bench'}]"
      ]
     },
     "execution_count": 126,
     "metadata": {},
     "output_type": "execute_result"
    }
   ],
   "source": [
    "templates"
   ]
  },
  {
   "cell_type": "code",
   "execution_count": 127,
   "id": "7ea856b6",
   "metadata": {},
   "outputs": [
    {
     "data": {
      "text/plain": [
       "{'id': '-MrPC_9n70HLxAJhIFJv', 'title': 'Abs', 'last_completed': 'Apr 29', 'lift_info_dict': {'Crunches': 3, 'Leg Raises': 3}, 'lift_info': '3 x Crunches, 3 x Leg Raises'}"
      ]
     },
     "execution_count": 127,
     "metadata": {},
     "output_type": "execute_result"
    }
   ],
   "source": [
    "templates[0]\n"
   ]
  },
  {
   "cell_type": "code",
   "execution_count": 16,
   "id": "41789b1c",
   "metadata": {},
   "outputs": [],
   "source": [
    "workout = templates[0].title"
   ]
  },
  {
   "cell_type": "code",
   "execution_count": 10,
   "id": "76c81163",
   "metadata": {},
   "outputs": [
    {
     "data": {
      "text/plain": [
       "'Abs'"
      ]
     },
     "execution_count": 10,
     "metadata": {},
     "output_type": "execute_result"
    }
   ],
   "source": [
    "title"
   ]
  },
  {
   "cell_type": "code",
   "execution_count": 14,
   "id": "5819edb8",
   "metadata": {},
   "outputs": [],
   "source": [
    "lifts = {k:True for k in templates[0].lift_info_dict}"
   ]
  },
  {
   "cell_type": "code",
   "execution_count": 15,
   "id": "38912907",
   "metadata": {},
   "outputs": [
    {
     "data": {
      "text/plain": [
       "{'Crunches': True, 'Leg Raises': True}"
      ]
     },
     "execution_count": 15,
     "metadata": {},
     "output_type": "execute_result"
    }
   ],
   "source": [
    "lifts"
   ]
  },
  {
   "cell_type": "code",
   "execution_count": 17,
   "id": "3987a251",
   "metadata": {},
   "outputs": [],
   "source": [
    "import itertools"
   ]
  },
  {
   "cell_type": "code",
   "execution_count": 128,
   "id": "01d36701",
   "metadata": {},
   "outputs": [
    {
     "data": {
      "text/plain": [
       "list"
      ]
     },
     "execution_count": 128,
     "metadata": {},
     "output_type": "execute_result"
    }
   ],
   "source": [
    "type(templates)"
   ]
  },
  {
   "cell_type": "code",
   "execution_count": 129,
   "id": "f708d636",
   "metadata": {},
   "outputs": [],
   "source": [
    "template_cycle = itertools.cycle(templates)"
   ]
  },
  {
   "cell_type": "code",
   "execution_count": null,
   "id": "9ec807bf",
   "metadata": {},
   "outputs": [],
   "source": []
  },
  {
   "cell_type": "code",
   "execution_count": 39,
   "id": "1a8fee44",
   "metadata": {},
   "outputs": [
    {
     "data": {
      "text/plain": [
       "{'Dips': True, 'Shoulder Press': True, 'Weighted Pull-ups': True}"
      ]
     },
     "execution_count": 39,
     "metadata": {},
     "output_type": "execute_result"
    }
   ],
   "source": [
    "{k: True for k in next(template_cycle).lift_info_dict}"
   ]
  },
  {
   "cell_type": "code",
   "execution_count": 139,
   "id": "3d1b9ef5",
   "metadata": {},
   "outputs": [
    {
     "data": {
      "text/plain": [
       "{'id': '-MrOHx7tHMWwcwf90Nbl', 'title': 'Upper', 'last_completed': 'May 03', 'lift_info_dict': {'Dips': 3, 'Shoulder Press': 3, 'Weighted Pull-ups': 3}, 'lift_info': '3 x Dips, 3 x Shoulder Press, 3 x Weighted Pull-ups'}"
      ]
     },
     "execution_count": 139,
     "metadata": {},
     "output_type": "execute_result"
    }
   ],
   "source": [
    "next(template_cycle)"
   ]
  },
  {
   "cell_type": "code",
   "execution_count": 25,
   "id": "abb24de8",
   "metadata": {},
   "outputs": [],
   "source": [
    "def register_session(lifts: dict, date: str, workout: str):\n",
    "    db.reference('sessions').push({\n",
    "        'date': date,\n",
    "        'lifts': lifts,\n",
    "        'workout': workout\n",
    "    })"
   ]
  },
  {
   "cell_type": "code",
   "execution_count": 140,
   "id": "b9caafae",
   "metadata": {},
   "outputs": [
    {
     "name": "stdout",
     "output_type": "stream",
     "text": [
      "['2021-12-03', '2021-12-09', '2021-12-14', '2021-12-19', '2021-12-24', '2021-12-27', '2022-01-03', '2022-01-11', '2022-01-13', '2022-01-17', '2022-01-21', '2022-01-27', '2022-01-29', '2022-02-03', '2022-02-10', '2022-02-13', '2022-02-20', '2022-02-24', '2022-03-04', '2022-03-08', '2022-03-12', '2022-03-20', '2022-03-24', '2022-03-28', '2022-04-04', '2022-04-08', '2022-04-16', '2022-04-19', '2022-04-22', '2022-04-30', '2022-05-07']\n"
     ]
    }
   ],
   "source": [
    "dates = get_dates()"
   ]
  },
  {
   "cell_type": "code",
   "execution_count": 142,
   "id": "d9e5ff69",
   "metadata": {},
   "outputs": [],
   "source": [
    "for date in dates:\n",
    "    template = next(template_cycle)\n",
    "    lifts = {k: True for k in template.lift_info_dict}\n",
    "    workout = template.title\n",
    "    register_session(lifts, date, workout)"
   ]
  },
  {
   "cell_type": "code",
   "execution_count": 121,
   "id": "c600afaa",
   "metadata": {},
   "outputs": [],
   "source": [
    "from datetime import date\n",
    "def get_dates():\n",
    "    dates = []\n",
    "    today = date.today()\n",
    "    dates.append(today)\n",
    "    current = today\n",
    "    for i in range(30):\n",
    "        current = current - timedelta(days= random.randint(2, 8))\n",
    "        dates.append(current)\n",
    "    dates = [date.isoformat() for date in dates]\n",
    "    dates.reverse()\n",
    "    print(dates)\n",
    "    return dates"
   ]
  },
  {
   "cell_type": "code",
   "execution_count": 92,
   "id": "77f16c6d",
   "metadata": {},
   "outputs": [],
   "source": [
    "increment = [0, 0, 2.5, 2.5, 2.5, 5]\n",
    "start = 160"
   ]
  },
  {
   "cell_type": "code",
   "execution_count": 93,
   "id": "df239ebf",
   "metadata": {},
   "outputs": [
    {
     "name": "stdout",
     "output_type": "stream",
     "text": [
      "[92.5, 95.0, 97.5, 100.0, 102.5, 105.0, 107.5, 112.5, 112.5, 115.0, 117.5, 120.0, 122.5, 125.0, 130.0, 130.0, 130.0, 135.0, 135.0, 137.5, 140.0, 142.5, 145.0, 145.0, 147.5, 150.0, 150.0, 152.5, 155, 160, 160]\n"
     ]
    }
   ],
   "source": [
    "w = get_weights(start, increment)"
   ]
  },
  {
   "cell_type": "code",
   "execution_count": 78,
   "id": "e1d58a7d",
   "metadata": {},
   "outputs": [],
   "source": [
    "w = [0]"
   ]
  },
  {
   "cell_type": "code",
   "execution_count": 151,
   "id": "8e4540ea",
   "metadata": {},
   "outputs": [],
   "source": [
    "cycles = {k: itertools.cycle(v) for k,v in weights.items()}"
   ]
  },
  {
   "cell_type": "code",
   "execution_count": 149,
   "id": "30d97470",
   "metadata": {},
   "outputs": [
    {
     "data": {
      "text/plain": [
       "{'Weighted Pull-ups': <itertools.cycle at 0x7fd175d1cc40>,\n",
       " 'Dips': <itertools.cycle at 0x7fd175d1c2c0>,\n",
       " 'Shoulder Press': <itertools.cycle at 0x7fd175d48940>,\n",
       " 'Crunches': <itertools.cycle at 0x7fd175d48f40>,\n",
       " 'Leg Raises': <itertools.cycle at 0x7fd175d48e00>,\n",
       " 'Deadlift': <itertools.cycle at 0x7fd175d48200>,\n",
       " 'Squats': <itertools.cycle at 0x7fd175d483c0>,\n",
       " 'Bench Press': <itertools.cycle at 0x7fd175d48080>,\n",
       " 'Incline Bench': <itertools.cycle at 0x7fd175d48580>}"
      ]
     },
     "execution_count": 149,
     "metadata": {},
     "output_type": "execute_result"
    }
   ],
   "source": [
    "cycles"
   ]
  },
  {
   "cell_type": "code",
   "execution_count": 99,
   "id": "117b4572",
   "metadata": {},
   "outputs": [],
   "source": [
    "def register_graph_data(key: str, lift: str, weight: int, date_str: str = None)->None:\n",
    "    if not date_str:\n",
    "        date_str = datetime.date.today().isoformat()\n",
    "    db.reference(f'graph_data/{lift}/{key}').set(\n",
    "        {\n",
    "        'date': date_str,\n",
    "        'weight' : weight \n",
    "        })\n",
    "\n",
    "def get_sessions():\n",
    "    return db.reference('/sessions').order_by_child('date').get()"
   ]
  },
  {
   "cell_type": "code",
   "execution_count": 143,
   "id": "610528ea",
   "metadata": {},
   "outputs": [],
   "source": [
    "sessions = get_sessions()"
   ]
  },
  {
   "cell_type": "code",
   "execution_count": 144,
   "id": "6cf8fb3c",
   "metadata": {},
   "outputs": [
    {
     "data": {
      "text/plain": [
       "31"
      ]
     },
     "execution_count": 144,
     "metadata": {},
     "output_type": "execute_result"
    }
   ],
   "source": [
    "len(sessions)"
   ]
  },
  {
   "cell_type": "code",
   "execution_count": 147,
   "id": "1ebfb48f",
   "metadata": {},
   "outputs": [
    {
     "data": {
      "text/plain": [
       "OrderedDict([('-N1TzwkqKElGgGVFMLCq',\n",
       "              {'date': '2021-12-03',\n",
       "               'lifts': {'Dips': True,\n",
       "                'Shoulder Press': True,\n",
       "                'Weighted Pull-ups': True},\n",
       "               'workout': 'Upper'}),\n",
       "             ('-N1Tzwly2r1oUBxnanO9',\n",
       "              {'date': '2021-12-09',\n",
       "               'lifts': {'Deadlift': True, 'Squats': True},\n",
       "               'workout': 'Lower'}),\n",
       "             ('-N1Tzwn7vnOVrYBzvxKS',\n",
       "              {'date': '2021-12-14',\n",
       "               'lifts': {'Bench Press': True, 'Incline Bench': True},\n",
       "               'workout': 'Chest'}),\n",
       "             ('-N1TzwoWCFQTr1nyPomC',\n",
       "              {'date': '2021-12-19',\n",
       "               'lifts': {'Crunches': True, 'Leg Raises': True},\n",
       "               'workout': 'Abs'}),\n",
       "             ('-N1TzwpdJS_bHyXkhnOg',\n",
       "              {'date': '2021-12-24',\n",
       "               'lifts': {'Dips': True,\n",
       "                'Shoulder Press': True,\n",
       "                'Weighted Pull-ups': True},\n",
       "               'workout': 'Upper'}),\n",
       "             ('-N1TzwqfHhnFerAJphb-',\n",
       "              {'date': '2021-12-27',\n",
       "               'lifts': {'Deadlift': True, 'Squats': True},\n",
       "               'workout': 'Lower'}),\n",
       "             ('-N1Tzwrlxzsn0VSdiVZc',\n",
       "              {'date': '2022-01-03',\n",
       "               'lifts': {'Bench Press': True, 'Incline Bench': True},\n",
       "               'workout': 'Chest'}),\n",
       "             ('-N1TzwsdF5qc4cAjGFOy',\n",
       "              {'date': '2022-01-11',\n",
       "               'lifts': {'Crunches': True, 'Leg Raises': True},\n",
       "               'workout': 'Abs'}),\n",
       "             ('-N1TzwwSGPq1alz6YBnV',\n",
       "              {'date': '2022-01-13',\n",
       "               'lifts': {'Dips': True,\n",
       "                'Shoulder Press': True,\n",
       "                'Weighted Pull-ups': True},\n",
       "               'workout': 'Upper'}),\n",
       "             ('-N1TzwymIU_MD0POG4nK',\n",
       "              {'date': '2022-01-17',\n",
       "               'lifts': {'Deadlift': True, 'Squats': True},\n",
       "               'workout': 'Lower'}),\n",
       "             ('-N1TzwzViEZsLYA6fAfa',\n",
       "              {'date': '2022-01-21',\n",
       "               'lifts': {'Bench Press': True, 'Incline Bench': True},\n",
       "               'workout': 'Chest'}),\n",
       "             ('-N1Tzx-xocOXvI4YgeN3',\n",
       "              {'date': '2022-01-27',\n",
       "               'lifts': {'Crunches': True, 'Leg Raises': True},\n",
       "               'workout': 'Abs'}),\n",
       "             ('-N1Tzx0z8mS2eqE6nuVT',\n",
       "              {'date': '2022-01-29',\n",
       "               'lifts': {'Dips': True,\n",
       "                'Shoulder Press': True,\n",
       "                'Weighted Pull-ups': True},\n",
       "               'workout': 'Upper'}),\n",
       "             ('-N1Tzx1xxIu89NVMZQHT',\n",
       "              {'date': '2022-02-03',\n",
       "               'lifts': {'Deadlift': True, 'Squats': True},\n",
       "               'workout': 'Lower'}),\n",
       "             ('-N1Tzx2qLzjBElrrRq4r',\n",
       "              {'date': '2022-02-10',\n",
       "               'lifts': {'Bench Press': True, 'Incline Bench': True},\n",
       "               'workout': 'Chest'}),\n",
       "             ('-N1Tzx3k4L9AVuEbbClz',\n",
       "              {'date': '2022-02-13',\n",
       "               'lifts': {'Crunches': True, 'Leg Raises': True},\n",
       "               'workout': 'Abs'}),\n",
       "             ('-N1Tzx4WfVXFQ8sTtiCJ',\n",
       "              {'date': '2022-02-20',\n",
       "               'lifts': {'Dips': True,\n",
       "                'Shoulder Press': True,\n",
       "                'Weighted Pull-ups': True},\n",
       "               'workout': 'Upper'}),\n",
       "             ('-N1Tzx7c41wwCDajwVi2',\n",
       "              {'date': '2022-02-24',\n",
       "               'lifts': {'Deadlift': True, 'Squats': True},\n",
       "               'workout': 'Lower'}),\n",
       "             ('-N1Tzx8ZhPFnQWwsQ4ll',\n",
       "              {'date': '2022-03-04',\n",
       "               'lifts': {'Bench Press': True, 'Incline Bench': True},\n",
       "               'workout': 'Chest'}),\n",
       "             ('-N1Tzx9XZ51Mx7MZwhNg',\n",
       "              {'date': '2022-03-08',\n",
       "               'lifts': {'Crunches': True, 'Leg Raises': True},\n",
       "               'workout': 'Abs'}),\n",
       "             ('-N1TzxAMqAZxIk51hNE4',\n",
       "              {'date': '2022-03-12',\n",
       "               'lifts': {'Dips': True,\n",
       "                'Shoulder Press': True,\n",
       "                'Weighted Pull-ups': True},\n",
       "               'workout': 'Upper'}),\n",
       "             ('-N1TzxB7_i-hXuwrVxRr',\n",
       "              {'date': '2022-03-20',\n",
       "               'lifts': {'Deadlift': True, 'Squats': True},\n",
       "               'workout': 'Lower'}),\n",
       "             ('-N1TzxCXTUQV67wq3lmf',\n",
       "              {'date': '2022-03-24',\n",
       "               'lifts': {'Bench Press': True, 'Incline Bench': True},\n",
       "               'workout': 'Chest'}),\n",
       "             ('-N1TzxDTYq29f8Qho9GX',\n",
       "              {'date': '2022-03-28',\n",
       "               'lifts': {'Crunches': True, 'Leg Raises': True},\n",
       "               'workout': 'Abs'}),\n",
       "             ('-N1TzxEMIrmxO7Va_V8A',\n",
       "              {'date': '2022-04-04',\n",
       "               'lifts': {'Dips': True,\n",
       "                'Shoulder Press': True,\n",
       "                'Weighted Pull-ups': True},\n",
       "               'workout': 'Upper'}),\n",
       "             ('-N1TzxF7oSRtQZg4cDgo',\n",
       "              {'date': '2022-04-08',\n",
       "               'lifts': {'Deadlift': True, 'Squats': True},\n",
       "               'workout': 'Lower'}),\n",
       "             ('-N1TzxFuB-z8lwRyQG0w',\n",
       "              {'date': '2022-04-16',\n",
       "               'lifts': {'Bench Press': True, 'Incline Bench': True},\n",
       "               'workout': 'Chest'}),\n",
       "             ('-N1TzxGfjkNSV1SMcImJ',\n",
       "              {'date': '2022-04-19',\n",
       "               'lifts': {'Crunches': True, 'Leg Raises': True},\n",
       "               'workout': 'Abs'}),\n",
       "             ('-N1TzxIEAK-hxigKDF39',\n",
       "              {'date': '2022-04-22',\n",
       "               'lifts': {'Dips': True,\n",
       "                'Shoulder Press': True,\n",
       "                'Weighted Pull-ups': True},\n",
       "               'workout': 'Upper'}),\n",
       "             ('-N1TzxIxydDb6YlzipaF',\n",
       "              {'date': '2022-04-30',\n",
       "               'lifts': {'Deadlift': True, 'Squats': True},\n",
       "               'workout': 'Lower'}),\n",
       "             ('-N1TzxK-Jwo5sKHLIRmF',\n",
       "              {'date': '2022-05-07',\n",
       "               'lifts': {'Bench Press': True, 'Incline Bench': True},\n",
       "               'workout': 'Chest'})])"
      ]
     },
     "execution_count": 147,
     "metadata": {},
     "output_type": "execute_result"
    }
   ],
   "source": [
    "sessions"
   ]
  },
  {
   "cell_type": "code",
   "execution_count": 152,
   "id": "c4e3eda2",
   "metadata": {},
   "outputs": [],
   "source": [
    "for k,v in sessions.items():\n",
    "    for lift in v['lifts']:\n",
    "        weight = next(cycles[lift])\n",
    "        sets = [{'reps': 5, 'weight': weight},{'reps': 5, 'weight': weight},{'reps': 5, 'weight': weight}]\n",
    "        db.reference(f'completed_lifts/{lift}/{k}').set(\n",
    "            {\n",
    "            'date': v['date'],\n",
    "            'sets' : sets \n",
    "            })"
   ]
  },
  {
   "cell_type": "code",
   "execution_count": null,
   "id": "00dc1f26",
   "metadata": {},
   "outputs": [],
   "source": []
  }
 ],
 "metadata": {
  "kernelspec": {
   "display_name": "Python 3",
   "language": "python",
   "name": "python3"
  },
  "language_info": {
   "codemirror_mode": {
    "name": "ipython",
    "version": 3
   },
   "file_extension": ".py",
   "mimetype": "text/x-python",
   "name": "python",
   "nbconvert_exporter": "python",
   "pygments_lexer": "ipython3",
   "version": "3.9.5"
  }
 },
 "nbformat": 4,
 "nbformat_minor": 5
}
